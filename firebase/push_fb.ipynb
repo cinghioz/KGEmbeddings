{
 "cells": [
  {
   "cell_type": "code",
   "execution_count": null,
   "id": "cd80b49b",
   "metadata": {},
   "outputs": [],
   "source": [
    "import firebase_admin\n",
    "from firebase_admin import credentials, storage\n",
    "from tqdm.notebook import tqdm\n",
    "import os\n",
    "\n",
    "SERVICE_ACCOUNT_KEY = \"rok-stats-sa.json\"\n",
    "\n",
    "BUCKET_NAME = \"rok-stats-61b0d.firebasestorage.app\"\n",
    "\n",
    "class TqdmStream:\n",
    "    def __init__(self, file_obj, pbar):\n",
    "        self.file_obj = file_obj\n",
    "        self.pbar = pbar\n",
    "\n",
    "    def read(self, size=-1):\n",
    "        data = self.file_obj.read(size)\n",
    "        self.pbar.update(len(data))\n",
    "        return data\n",
    "\n",
    "    def seek(self, offset, whence=0):\n",
    "        return self.file_obj.seek(offset, whence)\n",
    "\n",
    "    def tell(self):\n",
    "        return self.file_obj.tell()\n",
    "\n",
    "    def close(self):\n",
    "        return self.file_obj.close()\n",
    "\n",
    "\n",
    "def upload_to_firebase(local_file_path, destination_blob_name):\n",
    "    # Initialize app if not already\n",
    "    if not firebase_admin._apps:\n",
    "        cred = credentials.Certificate(SERVICE_ACCOUNT_KEY)\n",
    "        firebase_admin.initialize_app(cred, {\"storageBucket\": BUCKET_NAME})\n",
    "\n",
    "    bucket = storage.bucket()\n",
    "    blob = bucket.blob(destination_blob_name)\n",
    "\n",
    "    file_size = os.path.getsize(local_file_path)\n",
    "\n",
    "    with open(local_file_path, \"rb\") as f, tqdm(\n",
    "        total=file_size, unit=\"B\", unit_scale=True, desc=\"Uploading\"\n",
    "    ) as pbar:\n",
    "        wrapped_file = TqdmStream(f, pbar)\n",
    "        blob.upload_from_file(wrapped_file)\n",
    "\n",
    "    # Make public (optional)\n",
    "    blob.make_public()\n",
    "    print(f\"\\n✅ Upload complete: {blob.public_url}\")\n",
    "\n",
    "def download_from_firebase(destination_blob_name, local_file_path, chunk_size=1024 * 1024):\n",
    "    \"\"\"Downloads a file from Firebase Storage with progress bar.\"\"\"\n",
    "    if not firebase_admin._apps:\n",
    "        cred = credentials.Certificate(SERVICE_ACCOUNT_KEY)\n",
    "        firebase_admin.initialize_app(cred, {\"storageBucket\": BUCKET_NAME})\n",
    "\n",
    "    bucket = storage.bucket()\n",
    "    blob = bucket.blob(destination_blob_name)\n",
    "\n",
    "    file_size = blob.size  # size in bytes (metadata)\n",
    "    if file_size is None:\n",
    "        blob.reload()  # force load metadata\n",
    "        file_size = blob.size\n",
    "\n",
    "    with open(local_file_path, \"wb\") as f, tqdm(\n",
    "        total=file_size, unit=\"B\", unit_scale=True, desc=\"Downloading\"\n",
    "    ) as pbar:\n",
    "        start = 0\n",
    "        while start < file_size:\n",
    "            end = min(start + chunk_size, file_size) - 1\n",
    "            chunk = blob.download_as_bytes(start=start, end=end)\n",
    "            f.write(chunk)\n",
    "            pbar.update(len(chunk))\n",
    "            start += len(chunk)\n",
    "\n",
    "    print(f\"\\n✅ Download complete: {local_file_path}\")"
   ]
  },
  {
   "cell_type": "code",
   "execution_count": 2,
   "id": "f60cfabc",
   "metadata": {},
   "outputs": [],
   "source": [
    "# upload_to_firebase(\"/home/marco_dossena/PHD/KGEmbeddings/models/TransE_umls_0/relation_embedding.npy\", \"models/TransE_umls_0/relation_embedding.npy\")\n",
    "# upload_to_firebase(\"/home/marco_dossena/PHD/KGEmbeddings/models/TransE_umls_0/entity_embedding.npy\", \"models/TransE_umls_0/entity_embedding.npy\")"
   ]
  },
  {
   "cell_type": "code",
   "execution_count": 3,
   "id": "6b6c44c2",
   "metadata": {},
   "outputs": [
    {
     "data": {
      "application/vnd.jupyter.widget-view+json": {
       "model_id": "500297a28a484266b494c3c6e818425d",
       "version_major": 2,
       "version_minor": 0
      },
      "text/plain": [
       "Downloading:   0%|          | 0.00/897k [00:00<?, ?B/s]"
      ]
     },
     "metadata": {},
     "output_type": "display_data"
    },
    {
     "name": "stdout",
     "output_type": "stream",
     "text": [
      "\n",
      "✅ Download complete: downloaded_relation_embedding.npy\n"
     ]
    }
   ],
   "source": [
    "download_from_firebase(\"models/TransE_umls_0/relation_embedding.npy\", \"downloaded_relation_embedding.npy\")"
   ]
  }
 ],
 "metadata": {
  "kernelspec": {
   "display_name": ".venv",
   "language": "python",
   "name": "python3"
  },
  "language_info": {
   "codemirror_mode": {
    "name": "ipython",
    "version": 3
   },
   "file_extension": ".py",
   "mimetype": "text/x-python",
   "name": "python",
   "nbconvert_exporter": "python",
   "pygments_lexer": "ipython3",
   "version": "3.10.12"
  }
 },
 "nbformat": 4,
 "nbformat_minor": 5
}
