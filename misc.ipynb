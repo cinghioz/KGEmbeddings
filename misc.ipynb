{
 "cells": [
  {
   "cell_type": "code",
   "execution_count": null,
   "id": "869c923f",
   "metadata": {},
   "outputs": [],
   "source": [
    "import pickle\n",
    "import json\n",
    "import os\n",
    "import torch\n",
    "import random\n",
    "import numpy as np\n",
    "from tqdm.notebook import tqdm\n",
    "import pandas as pd\n",
    "from torch.utils.data import DataLoader\n",
    "from sentence_transformers import SentenceTransformer\n",
    "\n",
    "EMBEDDING_DIM = 512\n",
    "DATA = \"umls\"\n",
    "MODEL_NAME = \"transe\"\n",
    "# MODEL_PATH = \"/home/cc/phd/KGEmbeddings/models/TransE_FB15k_0/\"\n",
    "MODEL_PATH = f\"/home/cc/phd/KGEmbeddings/models/RotatE_{DATA}_0\"\n",
    "DICTS_DIR = f\"/home/cc/phd/KGEmbeddings/data/{DATA}\"\n",
    "\n",
    "# kg = TripletsEngine(DICTS_DIR, from_splits=True, ext='csv')\n",
    "\n",
    "with open(DICTS_DIR + '/entity_mapping.dict', 'rb') as f:\n",
    "    umls_map = json.loads(f.read())\n",
    "\n",
    "with open(DICTS_DIR + '/concept_mapping.json') as f:\n",
    "    umls_ents = json.loads(f.read())\n",
    "\n",
    "model = SentenceTransformer(\"google/embeddinggemma-300m\")"
   ]
  },
  {
   "cell_type": "code",
   "execution_count": null,
   "id": "98285a14",
   "metadata": {},
   "outputs": [],
   "source": [
    "embeddings = []\n",
    "\n",
    "for key in list(umls_map.keys())[:512]:\n",
    "    embeddings.append(model.encode(umls_ents[key]['concept_name'], truncate_dim=512))"
   ]
  },
  {
   "cell_type": "code",
   "execution_count": null,
   "id": "d63513b1",
   "metadata": {},
   "outputs": [],
   "source": [
    "embeddings = model.encode([umls_ents[key]['concept_name'] for key in list(umls_map.keys())][:512], batch_size=128, truncate_dim=512)"
   ]
  },
  {
   "cell_type": "code",
   "execution_count": null,
   "id": "8e54b92d",
   "metadata": {},
   "outputs": [],
   "source": [
    "embeddings"
   ]
  }
 ],
 "metadata": {
  "kernelspec": {
   "display_name": ".venv",
   "language": "python",
   "name": "python3"
  },
  "language_info": {
   "codemirror_mode": {
    "name": "ipython",
    "version": 3
   },
   "file_extension": ".py",
   "mimetype": "text/x-python",
   "name": "python",
   "nbconvert_exporter": "python",
   "pygments_lexer": "ipython3",
   "version": "3.10.12"
  }
 },
 "nbformat": 4,
 "nbformat_minor": 5
}
