{
 "cells": [
  {
   "cell_type": "code",
   "execution_count": null,
   "id": "869c923f",
   "metadata": {},
   "outputs": [],
   "source": [
    "import pickle\n",
    "import os\n",
    "import torch\n",
    "import random\n",
    "import numpy as np\n",
    "from tqdm.notebook import tqdm\n",
    "import pandas as pd\n",
    "\n",
    "from codes.query_solver import GeometricSolver\n",
    "from codes.triplets import TripletsEngine\n",
    "from codes.dataloader import TrainDataset\n",
    "\n",
    "EMBEDDING_DIM = 512\n",
    "# MODEL_PATH = \"/home/cc/phd/KGEmbeddings/models/TransE_FB15k_0/\"\n",
    "MODEL_PATH = \"/home/cc/phd/KGEmbeddings/models/RotatE_FB15k_0/\"\n",
    "MODEL_NAME = \"rotate\"\n",
    "DICTS_DIR = \"/home/cc/phd/KGEmbeddings/data/primekg\"\n",
    "\n",
    "triplet_engine = TripletsEngine(DICTS_DIR, from_splits=True, ext='csv')"
   ]
  },
  {
   "cell_type": "code",
   "execution_count": null,
   "id": "0cfa9d7c",
   "metadata": {},
   "outputs": [],
   "source": [
    "triplet_engine.triplets.shape"
   ]
  },
  {
   "cell_type": "code",
   "execution_count": null,
   "id": "627454dd",
   "metadata": {},
   "outputs": [],
   "source": [
    "all_df = pd.concat([train, val, test], ignore_index=True)"
   ]
  },
  {
   "cell_type": "code",
   "execution_count": null,
   "id": "e634b53c",
   "metadata": {},
   "outputs": [],
   "source": [
    "all_df.values"
   ]
  },
  {
   "cell_type": "code",
   "execution_count": null,
   "id": "df2ccb65",
   "metadata": {},
   "outputs": [],
   "source": [
    "train_dataset_head = TrainDataset(kg.triplets[kg.train_set], kg.triplets, kg.number_of_entities, kg.number_of_relations, 1, 'head-batch')"
   ]
  },
  {
   "cell_type": "code",
   "execution_count": null,
   "id": "c0d5821a",
   "metadata": {},
   "outputs": [],
   "source": [
    "negative_sample_e = np.random.randint(kg.number_of_entities, size=1)\n",
    "negative_sample_r = np.random.randint(kg.number_of_relations, size=1)\n",
    "negative_sample = np.stack((negative_sample_e, negative_sample_r), axis=1)\n",
    "negative_sample"
   ]
  },
  {
   "cell_type": "code",
   "execution_count": null,
   "id": "9e003b87",
   "metadata": {},
   "outputs": [],
   "source": [
    "head, relation, tail = kg.triplets[0]"
   ]
  },
  {
   "cell_type": "code",
   "execution_count": null,
   "id": "5d99e72a",
   "metadata": {},
   "outputs": [],
   "source": [
    "mask = ~np.isin(\n",
    "            negative_sample_e,\n",
    "            train_dataset_head.true_head[(relation, tail)],\n",
    "            assume_unique=True\n",
    "        )\n",
    "\n",
    "mask"
   ]
  }
 ],
 "metadata": {
  "kernelspec": {
   "display_name": ".venv",
   "language": "python",
   "name": "python3"
  },
  "language_info": {
   "codemirror_mode": {
    "name": "ipython",
    "version": 3
   },
   "file_extension": ".py",
   "mimetype": "text/x-python",
   "name": "python",
   "nbconvert_exporter": "python",
   "pygments_lexer": "ipython3",
   "version": "3.10.12"
  }
 },
 "nbformat": 4,
 "nbformat_minor": 5
}
