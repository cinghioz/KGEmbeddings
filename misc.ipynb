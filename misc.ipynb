{
 "cells": [
  {
   "cell_type": "code",
   "execution_count": null,
   "id": "869c923f",
   "metadata": {},
   "outputs": [],
   "source": [
    "import pickle\n",
    "import json\n",
    "import os\n",
    "import torch\n",
    "import random\n",
    "import numpy as np\n",
    "from tqdm.notebook import tqdm\n",
    "import pandas as pd\n",
    "from torch.utils.data import DataLoader\n",
    "from sentence_transformers import SentenceTransformer\n",
    "\n",
    "EMBEDDING_DIM = 512\n",
    "DATA = \"umls\"\n",
    "MODEL_NAME = \"transe\"\n",
    "# MODEL_PATH = \"/home/cc/phd/KGEmbeddings/models/TransE_FB15k_0/\"\n",
    "MODEL_PATH = f\"/home/cc/phd/KGEmbeddings/models/RotatE_{DATA}_0\"\n",
    "DICTS_DIR = f\"/home/cc/phd/KGEmbeddings/data/{DATA}\"\n",
    "\n",
    "# kg = TripletsEngine(DICTS_DIR, from_splits=True, ext='csv')\n",
    "\n",
    "with open(DICTS_DIR + '/entity_mapping.dict', 'rb') as f:\n",
    "    umls_map = json.loads(f.read())\n",
    "\n",
    "with open(DICTS_DIR + '/concept_mapping.json') as f:\n",
    "    umls_ents = json.loads(f.read())\n",
    "\n",
    "model = SentenceTransformer(\"google/embeddinggemma-300m\")\n",
    "\n",
    "print(\"Loading embeddings...\")\n",
    "\n",
    "embeddings = torch.load(DICTS_DIR + '/features.pt', weights_only=False, map_location='cuda')"
   ]
  },
  {
   "cell_type": "code",
   "execution_count": null,
   "id": "71cfd12a",
   "metadata": {},
   "outputs": [],
   "source": [
    "target = model.encode([\"Left tympanic plexus\"], batch_size=1, truncate_dim=EMBEDDING_DIM, device='cuda')\n",
    "\n",
    "_, indices = model.similarity(target, embeddings).squeeze().topk(10, largest=True)"
   ]
  },
  {
   "cell_type": "code",
   "execution_count": null,
   "id": "6960900d",
   "metadata": {},
   "outputs": [],
   "source": [
    "umls_ents[list(umls_ents.keys())[indices[0]]]"
   ]
  }
 ],
 "metadata": {
  "kernelspec": {
   "display_name": ".venv",
   "language": "python",
   "name": "python3"
  },
  "language_info": {
   "codemirror_mode": {
    "name": "ipython",
    "version": 3
   },
   "file_extension": ".py",
   "mimetype": "text/x-python",
   "name": "python",
   "nbconvert_exporter": "python",
   "pygments_lexer": "ipython3",
   "version": "3.10.12"
  }
 },
 "nbformat": 4,
 "nbformat_minor": 5
}
