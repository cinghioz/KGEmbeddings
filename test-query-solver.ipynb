{
 "cells": [
  {
   "cell_type": "code",
   "execution_count": null,
   "id": "7d70295b",
   "metadata": {},
   "outputs": [],
   "source": [
    "import pickle\n",
    "import torch\n",
    "import numpy as np\n",
    "from codes.query_solver import GeometricSolver\n",
    "\n",
    "EMBEDDING_DIM = 512\n",
    "MODEL_PATH = \"/home/cc/phd/KGEmbeddings/models/TransE_FB15k_0/\"\n",
    "\n",
    "with open('queries-set2.pkl', 'rb') as f:\n",
    "    loaded_dict = pickle.load(f)\n",
    "\n",
    "queries = loaded_dict['queries']\n",
    "results = loaded_dict['results']\n",
    "\n",
    "qs = GeometricSolver(MODEL_PATH, EMBEDDING_DIM, k_neighbors=50, k_results=25, device='cuda')"
   ]
  },
  {
   "cell_type": "code",
   "execution_count": null,
   "id": "751e6cd1",
   "metadata": {},
   "outputs": [],
   "source": [
    "idx = np.random.randint(len(queries))\n",
    "\n",
    "qs.set_k(k_neighbors=100, k_results=15)\n",
    "res = qs.execute_query(queries[idx], proj_mode=\"inter\", agg_mode=\"union\")\n",
    "\n",
    "founds = [ f for f in res if f in results[idx][1] ]\n",
    "print(f\"Query ({idx}): {queries[idx]}\")\n",
    "print(f\"Found: {len(founds)} on {len(results[idx][1])} targets from {len(res)} results\")"
   ]
  }
 ],
 "metadata": {
  "kernelspec": {
   "display_name": ".venv",
   "language": "python",
   "name": "python3"
  },
  "language_info": {
   "codemirror_mode": {
    "name": "ipython",
    "version": 3
   },
   "file_extension": ".py",
   "mimetype": "text/x-python",
   "name": "python",
   "nbconvert_exporter": "python",
   "pygments_lexer": "ipython3",
   "version": "3.10.12"
  }
 },
 "nbformat": 4,
 "nbformat_minor": 5
}
