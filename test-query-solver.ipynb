{
 "cells": [
  {
   "cell_type": "code",
   "execution_count": null,
   "id": "7d70295b",
   "metadata": {},
   "outputs": [],
   "source": [
    "import pickle\n",
    "import os\n",
    "import torch\n",
    "import random\n",
    "import numpy as np\n",
    "from tqdm.notebook import tqdm\n",
    "\n",
    "from codes.query_solver import GeometricSolver\n",
    "from codes.triplets import TripletsEngine\n",
    "\n",
    "EMBEDDING_DIM = 512\n",
    "MODEL_PATH = \"/home/cc/phd/KGEmbeddings/models/TransE_FB15k_0/\"\n",
    "DICTS_DIR = \"/home/cc/phd/KGEmbeddings/data/FB15k/\"\n",
    "\n",
    "with open('queries-set2.pkl', 'rb') as f:\n",
    "    loaded_dict = pickle.load(f)\n",
    "\n",
    "queries = loaded_dict['queries']\n",
    "results = loaded_dict['results']\n",
    "\n",
    "kg = TripletsEngine(os.path.join(DICTS_DIR), from_splits=True)\n",
    "qs = GeometricSolver(MODEL_PATH, \"transe\", EMBEDDING_DIM, h2t=kg.h2t, k_neighbors=50, k_results=25, device='cuda')"
   ]
  },
  {
   "cell_type": "code",
   "execution_count": null,
   "id": "751e6cd1",
   "metadata": {},
   "outputs": [],
   "source": [
    "# Complex query\n",
    "\n",
    "# idx = np.random.randint(len(queries))\n",
    "\n",
    "# qs.set_k(k_neighbors=100, k_results=15)\n",
    "# res = qs.execute_query(queries[idx], proj_mode=\"inter\", agg_mode=\"union\", trues=results[idx])\n",
    "\n",
    "# founds = [ f for f in res if f in results[idx][1] ]\n",
    "# print(f\"Query ({idx}): {queries[idx]}\")\n",
    "# print(f\"Found: {len(founds)} on {len(results[idx][1])} targets from {len(res)} results\")\n",
    "\n",
    "# # Simple query\n",
    "# simple_query = random.choice(list(kg.h2t.keys()))\n",
    "\n",
    "# qs.set_k(k_neighbors=10, k_results=25)\n",
    "# res = qs.execute_query([simple_query], proj_mode=\"inter\", agg_mode=\"union\")\n",
    "\n",
    "# founds = [ f for f in res if f in kg.h2t[simple_query]]\n",
    "# print(f\"Query: {simple_query}\")\n",
    "# print(f\"Found: {len(founds)} on {len(kg.h2t[simple_query])} targets from {len(res)} results\")\n",
    "\n",
    "# len(qs.get_metrics()['mrr'])"
   ]
  },
  {
   "cell_type": "code",
   "execution_count": null,
   "id": "19420b3d",
   "metadata": {},
   "outputs": [],
   "source": [
    "qs.set_k(k_neighbors=50)\n",
    "metrics = {\n",
    "            \"mrr\": [],\n",
    "            \"hits3\": [],\n",
    "            \"hits5\": [],\n",
    "            \"hits10\": [],\n",
    "        }\n",
    "\n",
    "for key in tqdm(kg.h2t.keys()):\n",
    "\n",
    "    res = qs.execute_query([key], proj_mode=\"inter\", agg_mode=\"union\")\n",
    "    founds = [ f for f in res if f in kg.h2t[key]]\n",
    "\n",
    "    ids = torch.tensor(founds)\n",
    "\n",
    "    for t in kg.h2t[key]:\n",
    "        ranking = (ids == t)\n",
    "        if ranking.sum():\n",
    "            ranking = ranking.nonzero(as_tuple=True)[0]+1\n",
    "            metrics['mrr'].append(1.0 / ranking.item())\n",
    "            metrics['hits3'].append(1.0 if ranking <= 3 else 0.0)\n",
    "            metrics['hits5'].append(1.0 if ranking <= 5 else 0.0)\n",
    "            metrics['hits10'].append(1.0 if ranking <= 10 else 0.0)\n",
    "\n",
    "# print(f\"Average Recall over {len(queries)} complex queries (flat method): {np.mean(metrics['recall'])}\")\n",
    "print(f\"Average MRR over {len(kg.h2t.keys())} simple queries: {np.mean(metrics['mrr'])}\")\n",
    "print(f\"Average Hits@K over {len(kg.h2t.keys())} simple queries: 3: {np.mean(metrics['hits3'])}, 5: {np.mean(metrics['hits5'])}, 10: {np.mean(metrics['hits10'])}\")"
   ]
  },
  {
   "cell_type": "code",
   "execution_count": null,
   "id": "5e32fb9a",
   "metadata": {},
   "outputs": [],
   "source": [
    "queries[0]"
   ]
  },
  {
   "cell_type": "code",
   "execution_count": null,
   "id": "857ee9ad",
   "metadata": {},
   "outputs": [],
   "source": [
    "qs.set_k(k_neighbors=50, k_results=25)\n",
    "recalls = []\n",
    "\n",
    "for query, result in tqdm(zip(queries, results), total=len(queries)):\n",
    "\n",
    "    res = qs.execute_query(query, proj_mode=\"inter\", agg_mode=\"union\", trues=result)\n",
    "    founds = [ f for f in res if f in result[-1]]\n",
    "\n",
    "    recalls.append( (len(founds) / len(result[-1])) if len(result[-1]) > 0 else 0.0 )\n",
    "\n",
    "metrics = qs.get_metrics()\n",
    "\n",
    "print(f\"Average Recall over {len(queries)} complex queries (2p1): {np.mean(recalls)}\")\n",
    "print(f\"Average MRR over {len(kg.h2t.keys())} complex queries (2pi): {np.mean(metrics['mrr'])}\")\n",
    "print(f\"Average Hits@K over {len(kg.h2t.keys())} complex queries (2pi): 3: {np.mean(metrics['hits3'])}, 5: {np.mean(metrics['hits5'])}, 10: {np.mean(metrics['hits10'])}\")"
   ]
  },
  {
   "cell_type": "code",
   "execution_count": null,
   "id": "e1f616b2",
   "metadata": {},
   "outputs": [],
   "source": [
    "\"aa\" if kg.h2t.get((np.int64(11867), np.int64(6))) is not None else \"kg\""
   ]
  }
 ],
 "metadata": {
  "kernelspec": {
   "display_name": ".venv",
   "language": "python",
   "name": "python3"
  },
  "language_info": {
   "codemirror_mode": {
    "name": "ipython",
    "version": 3
   },
   "file_extension": ".py",
   "mimetype": "text/x-python",
   "name": "python",
   "nbconvert_exporter": "python",
   "pygments_lexer": "ipython3",
   "version": "3.10.12"
  }
 },
 "nbformat": 4,
 "nbformat_minor": 5
}
