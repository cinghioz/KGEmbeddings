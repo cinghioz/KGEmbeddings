{
 "cells": [
  {
   "cell_type": "code",
   "execution_count": null,
   "id": "7d70295b",
   "metadata": {},
   "outputs": [],
   "source": [
    "import pickle\n",
    "import os\n",
    "import torch\n",
    "import random\n",
    "import numpy as np\n",
    "from tqdm.notebook import tqdm\n",
    "\n",
    "from codes.query_solver import GeometricSolver\n",
    "from codes.triplets import TripletsEngine\n",
    "\n",
    "EMBEDDING_DIM = 512\n",
    "MODEL_PATH = \"/home/cc/phd/KGEmbeddings/models/TransE_FB15k_0/\"\n",
    "DICTS_DIR = \"/home/cc/phd/KGEmbeddings/data/FB15k/\"\n",
    "\n",
    "with open('queries-set2.pkl', 'rb') as f:\n",
    "    loaded_dict = pickle.load(f)\n",
    "\n",
    "queries = loaded_dict['queries']\n",
    "results = loaded_dict['results']\n",
    "\n",
    "kg = TripletsEngine(os.path.join(DICTS_DIR), from_splits=True)\n",
    "qs = GeometricSolver(MODEL_PATH, \"transe\", EMBEDDING_DIM, k_neighbors=50, k_results=25, device='cuda')"
   ]
  },
  {
   "cell_type": "code",
   "execution_count": 2,
   "id": "751e6cd1",
   "metadata": {},
   "outputs": [],
   "source": [
    "# # Complex query\n",
    "\n",
    "# idx = np.random.randint(len(queries))\n",
    "\n",
    "# qs.set_k(k_neighbors=100, k_results=15)\n",
    "# res = qs.execute_query(queries[idx], proj_mode=\"inter\", agg_mode=\"union\")\n",
    "\n",
    "# founds = [ f for f in res if f in results[idx][1] ]\n",
    "# print(f\"Query ({idx}): {queries[idx]}\")\n",
    "# print(f\"Found: {len(founds)} on {len(results[idx][1])} targets from {len(res)} results\")\n",
    "\n",
    "# # Simple query\n",
    "# simple_query = random.choice(list(kg.h2t.keys()))\n",
    "\n",
    "# qs.set_k(k_neighbors=10, k_results=25)\n",
    "# res = qs.execute_query([simple_query], proj_mode=\"inter\", agg_mode=\"union\")\n",
    "\n",
    "# founds = [ f for f in res if f in kg.h2t[simple_query]]\n",
    "# print(f\"Query: {simple_query}\")\n",
    "# print(f\"Found: {len(founds)} on {len(kg.h2t[simple_query])} targets from {len(res)} results\")"
   ]
  },
  {
   "cell_type": "code",
   "execution_count": 3,
   "id": "19420b3d",
   "metadata": {},
   "outputs": [
    {
     "data": {
      "application/vnd.jupyter.widget-view+json": {
       "model_id": "0780d48c43b644b6961e3d121cc6acb0",
       "version_major": 2,
       "version_minor": 0
      },
      "text/plain": [
       "  0%|          | 0/174097 [00:00<?, ?it/s]"
      ]
     },
     "metadata": {},
     "output_type": "display_data"
    },
    {
     "ename": "KeyboardInterrupt",
     "evalue": "",
     "output_type": "error",
     "traceback": [
      "\u001b[0;31m---------------------------------------------------------------------------\u001b[0m",
      "\u001b[0;31mKeyboardInterrupt\u001b[0m                         Traceback (most recent call last)",
      "Cell \u001b[0;32mIn[3], line 11\u001b[0m\n\u001b[1;32m      2\u001b[0m metrics \u001b[38;5;241m=\u001b[39m {\n\u001b[1;32m      3\u001b[0m             \u001b[38;5;124m\"\u001b[39m\u001b[38;5;124mmrr\u001b[39m\u001b[38;5;124m\"\u001b[39m: [],\n\u001b[1;32m      4\u001b[0m             \u001b[38;5;124m\"\u001b[39m\u001b[38;5;124mhits3\u001b[39m\u001b[38;5;124m\"\u001b[39m: [],\n\u001b[1;32m      5\u001b[0m             \u001b[38;5;124m\"\u001b[39m\u001b[38;5;124mhits5\u001b[39m\u001b[38;5;124m\"\u001b[39m: [],\n\u001b[1;32m      6\u001b[0m             \u001b[38;5;124m\"\u001b[39m\u001b[38;5;124mhits10\u001b[39m\u001b[38;5;124m\"\u001b[39m: [],\n\u001b[1;32m      7\u001b[0m         }\n\u001b[1;32m      9\u001b[0m \u001b[38;5;28;01mfor\u001b[39;00m key \u001b[38;5;129;01min\u001b[39;00m tqdm(kg\u001b[38;5;241m.\u001b[39mh2t\u001b[38;5;241m.\u001b[39mkeys()):\n\u001b[0;32m---> 11\u001b[0m     res \u001b[38;5;241m=\u001b[39m \u001b[43mqs\u001b[49m\u001b[38;5;241;43m.\u001b[39;49m\u001b[43mexecute_query\u001b[49m\u001b[43m(\u001b[49m\u001b[43m[\u001b[49m\u001b[43mkey\u001b[49m\u001b[43m]\u001b[49m\u001b[43m,\u001b[49m\u001b[43m \u001b[49m\u001b[43mproj_mode\u001b[49m\u001b[38;5;241;43m=\u001b[39;49m\u001b[38;5;124;43m\"\u001b[39;49m\u001b[38;5;124;43minter\u001b[39;49m\u001b[38;5;124;43m\"\u001b[39;49m\u001b[43m,\u001b[49m\u001b[43m \u001b[49m\u001b[43magg_mode\u001b[49m\u001b[38;5;241;43m=\u001b[39;49m\u001b[38;5;124;43m\"\u001b[39;49m\u001b[38;5;124;43munion\u001b[39;49m\u001b[38;5;124;43m\"\u001b[39;49m\u001b[43m)\u001b[49m\n\u001b[1;32m     12\u001b[0m     founds \u001b[38;5;241m=\u001b[39m [ f \u001b[38;5;28;01mfor\u001b[39;00m f \u001b[38;5;129;01min\u001b[39;00m res \u001b[38;5;28;01mif\u001b[39;00m f \u001b[38;5;129;01min\u001b[39;00m kg\u001b[38;5;241m.\u001b[39mh2t[key]]\n\u001b[1;32m     14\u001b[0m     ids \u001b[38;5;241m=\u001b[39m torch\u001b[38;5;241m.\u001b[39mtensor(founds)\n",
      "File \u001b[0;32m~/phd/KGEmbeddings/codes/query_solver.py:130\u001b[0m, in \u001b[0;36mGeometricSolver.execute_query\u001b[0;34m(self, query, proj_mode, agg_mode, trues)\u001b[0m\n\u001b[1;32m    127\u001b[0m     rel_target \u001b[38;5;241m=\u001b[39m query[\u001b[38;5;241m-\u001b[39m\u001b[38;5;241m1\u001b[39m]\n\u001b[1;32m    129\u001b[0m \u001b[38;5;28;01mif\u001b[39;00m \u001b[38;5;28mlen\u001b[39m(query) \u001b[38;5;241m==\u001b[39m \u001b[38;5;241m1\u001b[39m:\n\u001b[0;32m--> 130\u001b[0m     projections \u001b[38;5;241m=\u001b[39m \u001b[38;5;28;43mself\u001b[39;49m\u001b[38;5;241;43m.\u001b[39;49m\u001b[43m_project\u001b[49m\u001b[43m(\u001b[49m\u001b[43mquery\u001b[49m\u001b[43m,\u001b[49m\u001b[43m \u001b[49m\u001b[43mmode\u001b[49m\u001b[38;5;241;43m=\u001b[39;49m\u001b[38;5;124;43m\"\u001b[39;49m\u001b[38;5;124;43mtail-batch\u001b[39;49m\u001b[38;5;124;43m\"\u001b[39;49m\u001b[43m)\u001b[49m\n\u001b[1;32m    131\u001b[0m     final_ids \u001b[38;5;241m=\u001b[39m projections[\u001b[38;5;241m0\u001b[39m]\n\u001b[1;32m    133\u001b[0m     \u001b[38;5;28;01mreturn\u001b[39;00m final_ids\n",
      "File \u001b[0;32m~/phd/KGEmbeddings/codes/query_solver.py:71\u001b[0m, in \u001b[0;36mGeometricSolver._project\u001b[0;34m(self, query, mode, last)\u001b[0m\n\u001b[1;32m     68\u001b[0m     h, r \u001b[38;5;241m=\u001b[39m q\n\u001b[1;32m     70\u001b[0m     ids, _ \u001b[38;5;241m=\u001b[39m \u001b[38;5;28mself\u001b[39m\u001b[38;5;241m.\u001b[39m_predict(\u001b[38;5;28mint\u001b[39m(h), \u001b[38;5;28mint\u001b[39m(r), \u001b[38;5;28mint\u001b[39m(h), mode\u001b[38;5;241m=\u001b[39mmode, last\u001b[38;5;241m=\u001b[39mlast)\n\u001b[0;32m---> 71\u001b[0m     acc\u001b[38;5;241m.\u001b[39mappend(\u001b[43mids\u001b[49m\u001b[38;5;241;43m.\u001b[39;49m\u001b[43mcpu\u001b[49m\u001b[43m(\u001b[49m\u001b[43m)\u001b[49m\u001b[38;5;241m.\u001b[39mtolist())\n\u001b[1;32m     73\u001b[0m \u001b[38;5;66;03m# return acc if len(acc) > 1 else acc[0] # TODO: gestire se è singolo elemento in execute_query\u001b[39;00m\n\u001b[1;32m     74\u001b[0m \u001b[38;5;28;01mreturn\u001b[39;00m acc\n",
      "\u001b[0;31mKeyboardInterrupt\u001b[0m: "
     ]
    }
   ],
   "source": [
    "qs.set_k(k_neighbors=50)\n",
    "metrics = {\n",
    "            \"mrr\": [],\n",
    "            \"hits3\": [],\n",
    "            \"hits5\": [],\n",
    "            \"hits10\": [],\n",
    "        }\n",
    "\n",
    "for key in tqdm(kg.h2t.keys()):\n",
    "\n",
    "    res = qs.execute_query([key], proj_mode=\"inter\", agg_mode=\"union\")\n",
    "    founds = [ f for f in res if f in kg.h2t[key]]\n",
    "\n",
    "    ids = torch.tensor(founds)\n",
    "\n",
    "    for t in kg.h2t[key]:\n",
    "        ranking = (ids == t)\n",
    "        if ranking.sum():\n",
    "            ranking = ranking.nonzero(as_tuple=True)[0]+1\n",
    "            metrics['mrr'].append(1.0 / ranking.item())\n",
    "            metrics['hits3'].append(1.0 if ranking <= 3 else 0.0)\n",
    "            metrics['hits5'].append(1.0 if ranking <= 5 else 0.0)\n",
    "            metrics['hits10'].append(1.0 if ranking <= 10 else 0.0)\n",
    "\n",
    "# print(f\"Average Recall over {len(queries)} complex queries (flat method): {np.mean(metrics['recall'])}\")\n",
    "print(f\"Average MRR over {len(kg.h2t.keys())} simple queries: {np.mean(metrics['mrr'])}\")\n",
    "print(f\"Average Hits@K over {len(kg.h2t.keys())} simple queries: 3: {np.mean(metrics['hits3'])}, 5: {np.mean(metrics['hits5'])}, 10: {np.mean(metrics['hits10'])}\")"
   ]
  },
  {
   "cell_type": "code",
   "execution_count": 4,
   "id": "857ee9ad",
   "metadata": {},
   "outputs": [
    {
     "data": {
      "application/vnd.jupyter.widget-view+json": {
       "model_id": "635ccb20baf240058480de07f7d69d5a",
       "version_major": 2,
       "version_minor": 0
      },
      "text/plain": [
       "  0%|          | 0/3803 [00:00<?, ?it/s]"
      ]
     },
     "metadata": {},
     "output_type": "display_data"
    },
    {
     "name": "stdout",
     "output_type": "stream",
     "text": [
      "Average Recall over 3803 complex queries (2p1): 0.530452474183132\n"
     ]
    }
   ],
   "source": [
    "qs.set_k(k_neighbors=50, k_results=25)\n",
    "metrics = {\n",
    "            \"mrr\": [],\n",
    "            \"hits3\": [],\n",
    "            \"hits5\": [],\n",
    "            \"hits10\": [],\n",
    "        }\n",
    "\n",
    "recalls = []\n",
    "\n",
    "for query, result in tqdm(zip(queries, results), total=len(queries)):\n",
    "\n",
    "    res = qs.execute_query(query, proj_mode=\"inter\", agg_mode=\"union\")\n",
    "    founds = [ f for f in res if f in result[-1]]\n",
    "\n",
    "    recalls.append( (len(founds) / len(result[-1])) if len(result[-1]) > 0 else 0.0 )\n",
    "\n",
    "    # ids = torch.tensor(founds)\n",
    "\n",
    "    # for t in kg.h2t[key]:\n",
    "    #     ranking = (ids == t)\n",
    "    #     if ranking.sum():\n",
    "    #         ranking = ranking.nonzero(as_tuple=True)[0]+1\n",
    "    #         metrics['mrr'].append(1.0 / ranking.item())\n",
    "    #         metrics['hits3'].append(1.0 if ranking <= 3 else 0.0)\n",
    "    #         metrics['hits5'].append(1.0 if ranking <= 5 else 0.0)\n",
    "    #         metrics['hits10'].append(1.0 if ranking <= 10 else 0.0)\n",
    "\n",
    "print(f\"Average Recall over {len(queries)} complex queries (2p1): {np.mean(recalls)}\")\n",
    "# print(f\"Average MRR over {len(kg.h2t.keys())} complex queries (2pi): {np.mean(metrics['mrr'])}\")\n",
    "# print(f\"Average Hits@K over {len(kg.h2t.keys())} complex queries (2pi): 3: {np.mean(metrics['hits3'])}, 5: {np.mean(metrics['hits5'])}, 10: {np.mean(metrics['hits10'])}\")"
   ]
  }
 ],
 "metadata": {
  "kernelspec": {
   "display_name": ".venv",
   "language": "python",
   "name": "python3"
  },
  "language_info": {
   "codemirror_mode": {
    "name": "ipython",
    "version": 3
   },
   "file_extension": ".py",
   "mimetype": "text/x-python",
   "name": "python",
   "nbconvert_exporter": "python",
   "pygments_lexer": "ipython3",
   "version": "3.10.12"
  }
 },
 "nbformat": 4,
 "nbformat_minor": 5
}
